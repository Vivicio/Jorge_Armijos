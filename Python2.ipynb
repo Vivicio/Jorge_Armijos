{
  "nbformat": 4,
  "nbformat_minor": 0,
  "metadata": {
    "colab": {
      "provenance": [],
      "authorship_tag": "ABX9TyPs7Qbtc7NvKjybrztf1B13",
      "include_colab_link": true
    },
    "kernelspec": {
      "name": "python3",
      "display_name": "Python 3"
    },
    "language_info": {
      "name": "python"
    }
  },
  "cells": [
    {
      "cell_type": "markdown",
      "metadata": {
        "id": "view-in-github",
        "colab_type": "text"
      },
      "source": [
        "<a href=\"https://colab.research.google.com/github/Vivicio/Jorge_Armijos/blob/main/Python2.ipynb\" target=\"_parent\"><img src=\"https://colab.research.google.com/assets/colab-badge.svg\" alt=\"Open In Colab\"/></a>"
      ]
    },
    {
      "cell_type": "markdown",
      "source": [
        "# **Parte 1**"
      ],
      "metadata": {
        "id": "7KkZfaFZf1X_"
      }
    },
    {
      "cell_type": "code",
      "execution_count": null,
      "metadata": {
        "colab": {
          "base_uri": "https://localhost:8080/"
        },
        "id": "ux-Rw0Z4ej71",
        "outputId": "c7759d1d-c6fd-42cb-d168-bcae09265916"
      },
      "outputs": [
        {
          "output_type": "stream",
          "name": "stdout",
          "text": [
            "Python 3.10.12\n"
          ]
        }
      ],
      "source": [
        "!python --version"
      ]
    },
    {
      "cell_type": "code",
      "source": [
        "variable1 = 10\n",
        "variable2 = 2.2\n",
        "variable3 = 'Inteligencia'\n",
        "print(type(variable1))\n",
        "print(type(variable2))\n",
        "print(type(variable3))"
      ],
      "metadata": {
        "colab": {
          "base_uri": "https://localhost:8080/"
        },
        "id": "lsnkXtp-hGRk",
        "outputId": "cc872016-660e-4248-c8d2-5c1cd2779ad6"
      },
      "execution_count": null,
      "outputs": [
        {
          "output_type": "stream",
          "name": "stdout",
          "text": [
            "<class 'int'>\n",
            "<class 'float'>\n",
            "<class 'str'>\n"
          ]
        }
      ]
    },
    {
      "cell_type": "code",
      "source": [
        "print(variable1 + variable2)\n",
        "print(variable1 - variable2)\n",
        "print(variable1 * variable2)\n",
        "print(variable1 / variable2)"
      ],
      "metadata": {
        "colab": {
          "base_uri": "https://localhost:8080/"
        },
        "id": "cSXD-gVjhJBu",
        "outputId": "7c3c646e-7823-439d-b467-71e8336846e5"
      },
      "execution_count": null,
      "outputs": [
        {
          "output_type": "stream",
          "name": "stdout",
          "text": [
            "12.2\n",
            "7.8\n",
            "22.0\n",
            "4.545454545454545\n"
          ]
        }
      ]
    },
    {
      "cell_type": "code",
      "source": [
        "v1=True\n",
        "v2=False\n",
        "\n",
        "print(v1 and v2)\n",
        "print(v1 or v2)\n",
        "print(not v1 and v2)\n",
        "\n",
        "print(len(variable3))\n",
        "print(variable3.upper())\n",
        "print(variable3.lower())\n",
        "print(variable3.capitalize())"
      ],
      "metadata": {
        "colab": {
          "base_uri": "https://localhost:8080/"
        },
        "id": "Ytk8pAbO4CMO",
        "outputId": "6646aaf6-a08b-495e-e687-fd2f83d7d802"
      },
      "execution_count": null,
      "outputs": [
        {
          "output_type": "stream",
          "name": "stdout",
          "text": [
            "False\n",
            "True\n",
            "False\n",
            "12\n",
            "INTELIGENCIA\n",
            "inteligencia\n",
            "Inteligencia\n"
          ]
        }
      ]
    },
    {
      "cell_type": "markdown",
      "source": [
        "# **Containers**\n",
        "## **1.   Lists**"
      ],
      "metadata": {
        "id": "ZlvW-bnP4g3Z"
      }
    },
    {
      "cell_type": "code",
      "source": [
        "somelist=list()\n",
        "somelist=['eraser','notebook','glue','pencil','bag','pens','colored pencils',True]\n",
        "print(somelist[2])\n",
        "print(somelist[7])\n",
        "print(len(somelist))\n",
        "print('--------------------')\n",
        "\n",
        "\n",
        "# for i in somelist:\n",
        "#   print(i)\n",
        "# print('--------------------')\n",
        "\n",
        "\n",
        "# somelist.append('regla')\n",
        "# for i in somelist:\n",
        "#   print(i)\n",
        "# somelist.pop(2)\n",
        "# print('--------------------')\n",
        "\n",
        "\n",
        "# for i in somelist:\n",
        "#   print(i)\n",
        "# print('--------------------')\n",
        "\n",
        "\n",
        "# # Slicing\n",
        "# print(somelist[1:5])\n",
        "\n",
        "# print(somelist[-1])\n",
        "\n",
        "print(somelist[0:3])"
      ],
      "metadata": {
        "colab": {
          "base_uri": "https://localhost:8080/"
        },
        "id": "o7MfY2Mb4emn",
        "outputId": "69771732-364b-4d07-c49c-5c6395d0ad50"
      },
      "execution_count": null,
      "outputs": [
        {
          "output_type": "stream",
          "name": "stdout",
          "text": [
            "glue\n",
            "True\n",
            "8\n",
            "--------------------\n",
            "['eraser', 'notebook', 'glue']\n"
          ]
        }
      ]
    },
    {
      "cell_type": "markdown",
      "source": [
        "## **2.   Dictionaries**"
      ],
      "metadata": {
        "id": "ESYl41nj63Kq"
      }
    },
    {
      "cell_type": "code",
      "source": [
        "d={'name':'Juan','age':30,'city':'El Carmen'}\n",
        "# print(d['name'])\n",
        "# print(d['city'])\n",
        "\n",
        "# d['uni']='ULEAM'\n",
        "# print(d['uni'])\n",
        "\n",
        "for key in d:\n",
        "  print(d[key])"
      ],
      "metadata": {
        "colab": {
          "base_uri": "https://localhost:8080/"
        },
        "id": "AQYNw_z062JM",
        "outputId": "5dfd2cbc-06f5-4b1c-a68f-07b9be5cffd5"
      },
      "execution_count": null,
      "outputs": [
        {
          "output_type": "stream",
          "name": "stdout",
          "text": [
            "Juan\n",
            "30\n",
            "El Carmen\n"
          ]
        }
      ]
    }
  ]
}